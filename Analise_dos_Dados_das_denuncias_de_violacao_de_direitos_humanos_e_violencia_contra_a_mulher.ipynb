{
  "nbformat": 4,
  "nbformat_minor": 0,
  "metadata": {
    "colab": {
      "name": "Analise dos Dados das denuncias de violacao de direitos humanos e violencia contra a mulher ",
      "provenance": [],
      "mount_file_id": "1JbxAnRsnAotBTiWNCHJJcUccVXBHh1e6",
      "authorship_tag": "ABX9TyPPAkgTqzmjAGBj33fzWJeB",
      "include_colab_link": true
    },
    "kernelspec": {
      "name": "python3",
      "display_name": "Python 3"
    },
    "language_info": {
      "name": "python"
    }
  },
  "cells": [
    {
      "cell_type": "markdown",
      "metadata": {
        "id": "view-in-github",
        "colab_type": "text"
      },
      "source": [
        "<a href=\"https://colab.research.google.com/github/filledeoya9/Analise-dos-Dados-das-denuncias-de-violacao-de-direitos-humanos-e-violencia-contra-a-mulher-/blob/main/Analise_dos_Dados_das_denuncias_de_violacao_de_direitos_humanos_e_violencia_contra_a_mulher.ipynb\" target=\"_parent\"><img src=\"https://colab.research.google.com/assets/colab-badge.svg\" alt=\"Open In Colab\"/></a>"
      ]
    },
    {
      "cell_type": "markdown",
      "source": [
        "Estudo realizado com o intuito de realizar uma análise de dados referentes as denúncias recibidas pela Ouvidoria Nacional de Direitos Humanos – ONDH, sobre  violação de direitos humanos e violência contra a mulher no segundo semestre de 2020.\n",
        "\n",
        "Referência dos dados: PORTAL BRASILEIRO DE DADOS ABERTOS\n",
        "[texto do link](https://https://dados.gov.br/dataset/ouvidoria-nacional-de-direitos-humanos-ondh)"
      ],
      "metadata": {
        "id": "iJ10GfqkLFkU"
      }
    },
    {
      "cell_type": "code",
      "source": [
        "#importando a biblioteca pandas\n",
        "\n",
        "import pandas as pd\n",
        "import numpy as np\n",
        "\n",
        "\n"
      ],
      "metadata": {
        "id": "SihM7HU3LCSU"
      },
      "execution_count": null,
      "outputs": []
    },
    {
      "cell_type": "code",
      "source": [
        "df= pd.read_csv(\"/content/drive/MyDrive/Colab Notebooks/Datasets/DireitosHumanos_segundo_semestre_2020.csv\",encoding = \"ISO-8859-1\", sep=\";\")"
      ],
      "metadata": {
        "id": "JbjongH7bQsM"
      },
      "execution_count": null,
      "outputs": []
    },
    {
      "cell_type": "markdown",
      "source": [
        "link solução do erro: https://stackoverflow.com/questions/18171739/unicodedecodeerror-when-reading-csv-file-in-pandas-with-python"
      ],
      "metadata": {
        "id": "DM8nNUClD-pe"
      }
    },
    {
      "cell_type": "code",
      "source": [
        "# Visualizando as 5 primeiras linhas\n",
        "\n",
        "df.head()"
      ],
      "metadata": {
        "colab": {
          "base_uri": "https://localhost:8080/",
          "height": 531
        },
        "id": "vElar-RjERWb",
        "outputId": "b0ec0aef-a9ee-4a91-b705-b79aada1b181"
      },
      "execution_count": null,
      "outputs": [
        {
          "output_type": "execute_result",
          "data": {
            "text/html": [
              "\n",
              "  <div id=\"df-0670a7f5-c76d-4942-8e81-02e8d41417a5\">\n",
              "    <div class=\"colab-df-container\">\n",
              "      <div>\n",
              "<style scoped>\n",
              "    .dataframe tbody tr th:only-of-type {\n",
              "        vertical-align: middle;\n",
              "    }\n",
              "\n",
              "    .dataframe tbody tr th {\n",
              "        vertical-align: top;\n",
              "    }\n",
              "\n",
              "    .dataframe thead th {\n",
              "        text-align: right;\n",
              "    }\n",
              "</style>\n",
              "<table border=\"1\" class=\"dataframe\">\n",
              "  <thead>\n",
              "    <tr style=\"text-align: right;\">\n",
              "      <th></th>\n",
              "      <th>Ano</th>\n",
              "      <th>Trimestre</th>\n",
              "      <th>Mês</th>\n",
              "      <th>Dia</th>\n",
              "      <th>País</th>\n",
              "      <th>UF</th>\n",
              "      <th>Grupo_vulnerável</th>\n",
              "      <th>Canal_de_atendimento</th>\n",
              "      <th>Cenário_da_violação</th>\n",
              "      <th>Frequência</th>\n",
              "      <th>Motivação</th>\n",
              "      <th>Denunciante</th>\n",
              "      <th>Sexo_da_vítima</th>\n",
              "      <th>Vítima_LGBT</th>\n",
              "      <th>Raça/Cor_da_vítima</th>\n",
              "      <th>Grau_de_instrução_da_vítima</th>\n",
              "      <th>Faixa_etária_da_vítima</th>\n",
              "      <th>Faixa_de_renda_da_vítima</th>\n",
              "      <th>Profissão_da_vítima</th>\n",
              "      <th>Religião_da_vítima</th>\n",
              "      <th>Deficiência_da_vítima</th>\n",
              "      <th>Deficiência_relacionada_a_doença_rara_?</th>\n",
              "      <th>Categoria</th>\n",
              "      <th>Categoria_2</th>\n",
              "      <th>Categoria_3</th>\n",
              "      <th>Categoria_4</th>\n",
              "      <th>Categoria_5</th>\n",
              "      <th>Categoria_6</th>\n",
              "    </tr>\n",
              "  </thead>\n",
              "  <tbody>\n",
              "    <tr>\n",
              "      <th>0</th>\n",
              "      <td>2020</td>\n",
              "      <td>Trim 4</td>\n",
              "      <td>dezembro</td>\n",
              "      <td>31</td>\n",
              "      <td>BRASIL</td>\n",
              "      <td>AM</td>\n",
              "      <td>02. VIOLÊNCIA DOMÉSTICA E FAMILIAR CONTRA A MU...</td>\n",
              "      <td>TELEFÔNICO</td>\n",
              "      <td>CASA ONDE RESIDE A VÍTIMA E O SUSPEITO</td>\n",
              "      <td>ÚNICA OCORRÊNCIA</td>\n",
              "      <td>EM RAZÃO DE SER MULHER</td>\n",
              "      <td>A PRÓPRIA VÍTIMA</td>\n",
              "      <td>FEMININO</td>\n",
              "      <td>*(N/D)</td>\n",
              "      <td>PARDA</td>\n",
              "      <td>ENSINO MÉDIO COMPLETO</td>\n",
              "      <td>35 A 39 ANOS</td>\n",
              "      <td>ATÉ 1 SM</td>\n",
              "      <td>*(N/D)</td>\n",
              "      <td>EVANGELHO QUADRANGULAR</td>\n",
              "      <td>*(N/D)</td>\n",
              "      <td>NÃO</td>\n",
              "      <td>INTEGRIDADE</td>\n",
              "      <td>FÍSICA</td>\n",
              "      <td>EXPOSIÇÃO DE RISCO À SAÚDE</td>\n",
              "      <td>NaN</td>\n",
              "      <td>NaN</td>\n",
              "      <td>NaN</td>\n",
              "    </tr>\n",
              "    <tr>\n",
              "      <th>1</th>\n",
              "      <td>2020</td>\n",
              "      <td>Trim 4</td>\n",
              "      <td>dezembro</td>\n",
              "      <td>31</td>\n",
              "      <td>BRASIL</td>\n",
              "      <td>AM</td>\n",
              "      <td>02. VIOLÊNCIA DOMÉSTICA E FAMILIAR CONTRA A MU...</td>\n",
              "      <td>TELEFÔNICO</td>\n",
              "      <td>CASA ONDE RESIDE A VÍTIMA E O SUSPEITO</td>\n",
              "      <td>ÚNICA OCORRÊNCIA</td>\n",
              "      <td>*(N/D)</td>\n",
              "      <td>A PRÓPRIA VÍTIMA</td>\n",
              "      <td>FEMININO</td>\n",
              "      <td>*(N/D)</td>\n",
              "      <td>PARDA</td>\n",
              "      <td>ENSINO MÉDIO COMPLETO</td>\n",
              "      <td>35 A 39 ANOS</td>\n",
              "      <td>ATÉ 1 SM</td>\n",
              "      <td>*(N/D)</td>\n",
              "      <td>EVANGELHO QUADRANGULAR</td>\n",
              "      <td>*(N/D)</td>\n",
              "      <td>NÃO</td>\n",
              "      <td>INTEGRIDADE</td>\n",
              "      <td>FÍSICA</td>\n",
              "      <td>LESÃO CORPORAL</td>\n",
              "      <td>NaN</td>\n",
              "      <td>NaN</td>\n",
              "      <td>NaN</td>\n",
              "    </tr>\n",
              "    <tr>\n",
              "      <th>2</th>\n",
              "      <td>2020</td>\n",
              "      <td>Trim 4</td>\n",
              "      <td>dezembro</td>\n",
              "      <td>31</td>\n",
              "      <td>BRASIL</td>\n",
              "      <td>AM</td>\n",
              "      <td>02. VIOLÊNCIA DOMÉSTICA E FAMILIAR CONTRA A MU...</td>\n",
              "      <td>TELEFÔNICO</td>\n",
              "      <td>CASA ONDE RESIDE A VÍTIMA E O SUSPEITO</td>\n",
              "      <td>ÚNICA OCORRÊNCIA</td>\n",
              "      <td>POR CONDUTAS EXCESSIVAS/ DESNECESSÁRIAS/ DESAC...</td>\n",
              "      <td>A PRÓPRIA VÍTIMA</td>\n",
              "      <td>FEMININO</td>\n",
              "      <td>*(N/D)</td>\n",
              "      <td>PARDA</td>\n",
              "      <td>ENSINO MÉDIO COMPLETO</td>\n",
              "      <td>35 A 39 ANOS</td>\n",
              "      <td>ATÉ 1 SM</td>\n",
              "      <td>*(N/D)</td>\n",
              "      <td>EVANGELHO QUADRANGULAR</td>\n",
              "      <td>NÃO TEM DEFICIÊNCIA</td>\n",
              "      <td>NÃO</td>\n",
              "      <td>INTEGRIDADE</td>\n",
              "      <td>FÍSICA</td>\n",
              "      <td>AGRESSÃO ou VIAS DE FATO</td>\n",
              "      <td>NaN</td>\n",
              "      <td>NaN</td>\n",
              "      <td>NaN</td>\n",
              "    </tr>\n",
              "    <tr>\n",
              "      <th>3</th>\n",
              "      <td>2020</td>\n",
              "      <td>Trim 4</td>\n",
              "      <td>dezembro</td>\n",
              "      <td>31</td>\n",
              "      <td>BRASIL</td>\n",
              "      <td>AM</td>\n",
              "      <td>03. VIOLÊNCIA CONTRA CRIANÇA OU ADOLESCENTE</td>\n",
              "      <td>TELEFÔNICO</td>\n",
              "      <td>CASA DA VÍTIMA</td>\n",
              "      <td>MENSALMENTE</td>\n",
              "      <td>*(N/D)</td>\n",
              "      <td>ANÔNIMO</td>\n",
              "      <td>FEMININO</td>\n",
              "      <td>*(N/D)</td>\n",
              "      <td>PARDA</td>\n",
              "      <td>ENSINO FUNDAMENTAL INCOMPLETO</td>\n",
              "      <td>10 A 11 ANOS</td>\n",
              "      <td>*(N/D)</td>\n",
              "      <td>*(N/D)</td>\n",
              "      <td>*(N/D)</td>\n",
              "      <td>*(N/D)</td>\n",
              "      <td>NÃO SABE INFORMAR</td>\n",
              "      <td>INTEGRIDADE</td>\n",
              "      <td>FÍSICA</td>\n",
              "      <td>EXPOSIÇÃO DE RISCO À SAÚDE</td>\n",
              "      <td>NaN</td>\n",
              "      <td>NaN</td>\n",
              "      <td>NaN</td>\n",
              "    </tr>\n",
              "    <tr>\n",
              "      <th>4</th>\n",
              "      <td>2020</td>\n",
              "      <td>Trim 4</td>\n",
              "      <td>dezembro</td>\n",
              "      <td>31</td>\n",
              "      <td>BRASIL</td>\n",
              "      <td>AM</td>\n",
              "      <td>03. VIOLÊNCIA CONTRA CRIANÇA OU ADOLESCENTE</td>\n",
              "      <td>TELEFÔNICO</td>\n",
              "      <td>CASA DA VÍTIMA</td>\n",
              "      <td>MENSALMENTE</td>\n",
              "      <td>*(N/D)</td>\n",
              "      <td>ANÔNIMO</td>\n",
              "      <td>FEMININO</td>\n",
              "      <td>*(N/D)</td>\n",
              "      <td>PARDA</td>\n",
              "      <td>ENSINO FUNDAMENTAL INCOMPLETO</td>\n",
              "      <td>10 A 11 ANOS</td>\n",
              "      <td>*(N/D)</td>\n",
              "      <td>*(N/D)</td>\n",
              "      <td>*(N/D)</td>\n",
              "      <td>*(N/D)</td>\n",
              "      <td>NÃO SABE INFORMAR</td>\n",
              "      <td>INTEGRIDADE</td>\n",
              "      <td>FÍSICA</td>\n",
              "      <td>MAUS TRATOS</td>\n",
              "      <td>NaN</td>\n",
              "      <td>NaN</td>\n",
              "      <td>NaN</td>\n",
              "    </tr>\n",
              "  </tbody>\n",
              "</table>\n",
              "</div>\n",
              "      <button class=\"colab-df-convert\" onclick=\"convertToInteractive('df-0670a7f5-c76d-4942-8e81-02e8d41417a5')\"\n",
              "              title=\"Convert this dataframe to an interactive table.\"\n",
              "              style=\"display:none;\">\n",
              "        \n",
              "  <svg xmlns=\"http://www.w3.org/2000/svg\" height=\"24px\"viewBox=\"0 0 24 24\"\n",
              "       width=\"24px\">\n",
              "    <path d=\"M0 0h24v24H0V0z\" fill=\"none\"/>\n",
              "    <path d=\"M18.56 5.44l.94 2.06.94-2.06 2.06-.94-2.06-.94-.94-2.06-.94 2.06-2.06.94zm-11 1L8.5 8.5l.94-2.06 2.06-.94-2.06-.94L8.5 2.5l-.94 2.06-2.06.94zm10 10l.94 2.06.94-2.06 2.06-.94-2.06-.94-.94-2.06-.94 2.06-2.06.94z\"/><path d=\"M17.41 7.96l-1.37-1.37c-.4-.4-.92-.59-1.43-.59-.52 0-1.04.2-1.43.59L10.3 9.45l-7.72 7.72c-.78.78-.78 2.05 0 2.83L4 21.41c.39.39.9.59 1.41.59.51 0 1.02-.2 1.41-.59l7.78-7.78 2.81-2.81c.8-.78.8-2.07 0-2.86zM5.41 20L4 18.59l7.72-7.72 1.47 1.35L5.41 20z\"/>\n",
              "  </svg>\n",
              "      </button>\n",
              "      \n",
              "  <style>\n",
              "    .colab-df-container {\n",
              "      display:flex;\n",
              "      flex-wrap:wrap;\n",
              "      gap: 12px;\n",
              "    }\n",
              "\n",
              "    .colab-df-convert {\n",
              "      background-color: #E8F0FE;\n",
              "      border: none;\n",
              "      border-radius: 50%;\n",
              "      cursor: pointer;\n",
              "      display: none;\n",
              "      fill: #1967D2;\n",
              "      height: 32px;\n",
              "      padding: 0 0 0 0;\n",
              "      width: 32px;\n",
              "    }\n",
              "\n",
              "    .colab-df-convert:hover {\n",
              "      background-color: #E2EBFA;\n",
              "      box-shadow: 0px 1px 2px rgba(60, 64, 67, 0.3), 0px 1px 3px 1px rgba(60, 64, 67, 0.15);\n",
              "      fill: #174EA6;\n",
              "    }\n",
              "\n",
              "    [theme=dark] .colab-df-convert {\n",
              "      background-color: #3B4455;\n",
              "      fill: #D2E3FC;\n",
              "    }\n",
              "\n",
              "    [theme=dark] .colab-df-convert:hover {\n",
              "      background-color: #434B5C;\n",
              "      box-shadow: 0px 1px 3px 1px rgba(0, 0, 0, 0.15);\n",
              "      filter: drop-shadow(0px 1px 2px rgba(0, 0, 0, 0.3));\n",
              "      fill: #FFFFFF;\n",
              "    }\n",
              "  </style>\n",
              "\n",
              "      <script>\n",
              "        const buttonEl =\n",
              "          document.querySelector('#df-0670a7f5-c76d-4942-8e81-02e8d41417a5 button.colab-df-convert');\n",
              "        buttonEl.style.display =\n",
              "          google.colab.kernel.accessAllowed ? 'block' : 'none';\n",
              "\n",
              "        async function convertToInteractive(key) {\n",
              "          const element = document.querySelector('#df-0670a7f5-c76d-4942-8e81-02e8d41417a5');\n",
              "          const dataTable =\n",
              "            await google.colab.kernel.invokeFunction('convertToInteractive',\n",
              "                                                     [key], {});\n",
              "          if (!dataTable) return;\n",
              "\n",
              "          const docLinkHtml = 'Like what you see? Visit the ' +\n",
              "            '<a target=\"_blank\" href=https://colab.research.google.com/notebooks/data_table.ipynb>data table notebook</a>'\n",
              "            + ' to learn more about interactive tables.';\n",
              "          element.innerHTML = '';\n",
              "          dataTable['output_type'] = 'display_data';\n",
              "          await google.colab.output.renderOutput(dataTable, element);\n",
              "          const docLink = document.createElement('div');\n",
              "          docLink.innerHTML = docLinkHtml;\n",
              "          element.appendChild(docLink);\n",
              "        }\n",
              "      </script>\n",
              "    </div>\n",
              "  </div>\n",
              "  "
            ],
            "text/plain": [
              "    Ano Trimestre       Mês  ...  Categoria_4 Categoria_5 Categoria_6\n",
              "0  2020    Trim 4  dezembro  ...          NaN         NaN         NaN\n",
              "1  2020    Trim 4  dezembro  ...          NaN         NaN         NaN\n",
              "2  2020    Trim 4  dezembro  ...          NaN         NaN         NaN\n",
              "3  2020    Trim 4  dezembro  ...          NaN         NaN         NaN\n",
              "4  2020    Trim 4  dezembro  ...          NaN         NaN         NaN\n",
              "\n",
              "[5 rows x 28 columns]"
            ]
          },
          "metadata": {},
          "execution_count": 55
        }
      ]
    },
    {
      "cell_type": "code",
      "source": [
        "#total de linhas e colunas\n",
        "df.shape\n"
      ],
      "metadata": {
        "colab": {
          "base_uri": "https://localhost:8080/"
        },
        "id": "LSnD8HMdIKOO",
        "outputId": "e18bb802-dfa0-42ac-e3d0-16ac39224124"
      },
      "execution_count": null,
      "outputs": [
        {
          "output_type": "execute_result",
          "data": {
            "text/plain": [
              "(409878, 28)"
            ]
          },
          "metadata": {},
          "execution_count": 56
        }
      ]
    },
    {
      "cell_type": "code",
      "source": [
        "#Tipo dos Dados\n",
        "df.dtypes"
      ],
      "metadata": {
        "colab": {
          "base_uri": "https://localhost:8080/"
        },
        "id": "9QR-AqRfJT5j",
        "outputId": "9c7a42c4-2fdb-4977-8ff1-c192601e21ce"
      },
      "execution_count": null,
      "outputs": [
        {
          "output_type": "execute_result",
          "data": {
            "text/plain": [
              "Ano                                         int64\n",
              "Trimestre                                  object\n",
              "Mês                                        object\n",
              "Dia                                         int64\n",
              "País                                       object\n",
              "UF                                         object\n",
              "Grupo_vulnerável                           object\n",
              "Canal_de_atendimento                       object\n",
              "Cenário_da_violação                        object\n",
              "Frequência                                 object\n",
              "Motivação                                  object\n",
              "Denunciante                                object\n",
              "Sexo_da_vítima                             object\n",
              "Vítima_LGBT                                object\n",
              "Raça/Cor_da_vítima                         object\n",
              "Grau_de_instrução_da_vítima                object\n",
              "Faixa_etária_da_vítima                     object\n",
              "Faixa_de_renda_da_vítima                   object\n",
              "Profissão_da_vítima                        object\n",
              "Religião_da_vítima                         object\n",
              "Deficiência_da_vítima                      object\n",
              "Deficiência_relacionada_a_doença_rara_?    object\n",
              "Categoria                                  object\n",
              "Categoria_2                                object\n",
              "Categoria_3                                object\n",
              "Categoria_4                                object\n",
              "Categoria_5                                object\n",
              "Categoria_6                                object\n",
              "dtype: object"
            ]
          },
          "metadata": {},
          "execution_count": 57
        }
      ]
    },
    {
      "cell_type": "code",
      "source": [
        "#Consultando linhas com valores faltantes\n",
        "df.isnull().sum()"
      ],
      "metadata": {
        "colab": {
          "base_uri": "https://localhost:8080/"
        },
        "id": "nlmfJYADcxmd",
        "outputId": "3a96d3a6-94a0-4109-802e-f7fcfc1714c2"
      },
      "execution_count": null,
      "outputs": [
        {
          "output_type": "execute_result",
          "data": {
            "text/plain": [
              "Ano                                             0\n",
              "Trimestre                                       0\n",
              "Mês                                             0\n",
              "Dia                                             0\n",
              "País                                            0\n",
              "UF                                              0\n",
              "Grupo_vulnerável                                0\n",
              "Canal_de_atendimento                            0\n",
              "Cenário_da_violação                             0\n",
              "Frequência                                      0\n",
              "Motivação                                       0\n",
              "Denunciante                                     0\n",
              "Sexo_da_vítima                                  0\n",
              "Vítima_LGBT                                     0\n",
              "Raça/Cor_da_vítima                              0\n",
              "Grau_de_instrução_da_vítima                     0\n",
              "Faixa_etária_da_vítima                          0\n",
              "Faixa_de_renda_da_vítima                        0\n",
              "Profissão_da_vítima                             0\n",
              "Religião_da_vítima                              0\n",
              "Deficiência_da_vítima                           0\n",
              "Deficiência_relacionada_a_doença_rara_?         0\n",
              "Categoria                                   19679\n",
              "Categoria_2                                 19784\n",
              "Categoria_3                                 41646\n",
              "Categoria_4                                334012\n",
              "Categoria_5                                393032\n",
              "Categoria_6                                404263\n",
              "dtype: int64"
            ]
          },
          "metadata": {},
          "execution_count": 58
        }
      ]
    },
    {
      "cell_type": "code",
      "source": [
        "# Visualização de Dados\n",
        "#dados referentes as denúncias recibidas pela Ouvidoria Nacional \n",
        "#de Direitos Humanos – ONDH, de acordo com cada mês\n",
        "\n",
        "import matplotlib.pyplot as plt\n",
        "df['Mês'].value_counts().plot.bar(title=\"Denúncias recebidas por mês- Segundo Semestre de 2020\", color=\"orange\");\n",
        "plt.ylabel (\"Total de Denúcias\");\n",
        "plt.xlabel (\"Meses\");"
      ],
      "metadata": {
        "colab": {
          "base_uri": "https://localhost:8080/",
          "height": 335
        },
        "id": "kLy9-hEsZZp2",
        "outputId": "04fab29e-39f5-4d5b-c344-843d4b28cf85"
      },
      "execution_count": 75,
      "outputs": [
        {
          "output_type": "display_data",
          "data": {
            "image/png": "[encoded data removed]",
            "text/plain": [
              "<Figure size 432x288 with 1 Axes>"
            ]
          },
          "metadata": {
            "needs_background": "light"
          }
        }
      ]
    },
    {
      "cell_type": "code",
      "source": [
        "df['UF'].value_counts().plot.bar(title=\"Denúncias recebidas por Estado- Segundo Semestre de 2020\", color=\"coral\");\n",
        "plt.ylabel (\"Total de Denúcias por Estado\");\n",
        "plt.xlabel (\"Estados\");"
      ],
      "metadata": {
        "colab": {
          "base_uri": "https://localhost:8080/",
          "height": 317
        },
        "id": "tBzfepkHeq3j",
        "outputId": "4bf34e10-1326-4781-81fe-246cf57d1848"
      },
      "execution_count": 80,
      "outputs": [
        {
          "output_type": "display_data",
          "data": {
            "image/png": "[encoded data removed]",
            "text/plain": [
              "<Figure size 432x288 with 1 Axes>"
            ]
          },
          "metadata": {
            "needs_background": "light"
          }
        }
      ]
    },
    {
      "cell_type": "code",
      "source": [
        "\n",
        "df['Grupo_vulnerável'].value_counts().plot.barh(title=\"Denúncias recebidas por tipo de grupo vulnerável- Segundo Semestre de 2020\", color=\"crimson\");\n",
        "plt.ylabel (\"Total por tipo de grupo vulnerável\");\n",
        "plt.xlabel (\"Grupos Vulneráveis\");"
      ],
      "metadata": {
        "colab": {
          "base_uri": "https://localhost:8080/",
          "height": 296
        },
        "id": "9zuDDXpIgMKn",
        "outputId": "df071bc7-94e9-4fb0-fbba-bb82e294f79c"
      },
      "execution_count": 83,
      "outputs": [
        {
          "output_type": "display_data",
          "data": {
            "image/png": "[encoded data removed]",
            "text/plain": [
              "<Figure size 432x288 with 1 Axes>"
            ]
          },
          "metadata": {
            "needs_background": "light"
          }
        }
      ]
    },
    {
      "cell_type": "code",
      "source": [
        "df['Canal_de_atendimento'].value_counts().plot.bar(title=\"Canais de Atendimento\", color=\"blue\");\n",
        "plt.ylabel (\"Denúncias recebidas por cada Canal\");\n",
        "plt.xlabel (\"Canais de Atendimento\");\n"
      ],
      "metadata": {
        "colab": {
          "base_uri": "https://localhost:8080/",
          "height": 368
        },
        "id": "wVTxrlk8iZQT",
        "outputId": "3e33f78f-65b0-445c-be33-1524f63be2ba"
      },
      "execution_count": 91,
      "outputs": [
        {
          "output_type": "display_data",
          "data": {
            "image/png": "[encoded data removed]",
            "text/plain": [
              "<Figure size 432x288 with 1 Axes>"
            ]
          },
          "metadata": {
            "needs_background": "light"
          }
        }
      ]
    },
    {
      "cell_type": "markdown",
      "source": [
        ""
      ],
      "metadata": {
        "id": "JY-PZT7nzVM0"
      }
    }
  ]
}