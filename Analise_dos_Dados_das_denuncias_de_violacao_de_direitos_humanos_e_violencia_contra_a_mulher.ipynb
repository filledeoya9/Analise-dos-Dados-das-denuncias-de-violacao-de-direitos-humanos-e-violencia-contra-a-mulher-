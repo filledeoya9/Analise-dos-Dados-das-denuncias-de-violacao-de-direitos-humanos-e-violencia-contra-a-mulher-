{
  "nbformat": 4,
  "nbformat_minor": 0,
  "metadata": {
    "colab": {
      "name": "Analise dos Dados das denuncias de violacao de direitos humanos e violencia contra a mulher ",
      "provenance": [],
      "mount_file_id": "1JbxAnRsnAotBTiWNCHJJcUccVXBHh1e6",
      "authorship_tag": "ABX9TyP7/Ofr81wCn0iMIMEWi4Nv",
      "include_colab_link": true
    },
    "kernelspec": {
      "name": "python3",
      "display_name": "Python 3"
    },
    "language_info": {
      "name": "python"
    }
  },
  "cells": [
    {
      "cell_type": "markdown",
      "metadata": {
        "id": "view-in-github",
        "colab_type": "text"
      },
      "source": [
        "<a href=\"https://colab.research.google.com/github/filledeoya9/Analise-dos-Dados-das-denuncias-de-violacao-de-direitos-humanos-e-violencia-contra-a-mulher-/blob/main/Analise_dos_Dados_das_denuncias_de_violacao_de_direitos_humanos_e_violencia_contra_a_mulher.ipynb\" target=\"_parent\"><img src=\"https://colab.research.google.com/assets/colab-badge.svg\" alt=\"Open In Colab\"/></a>"
      ]
    },
    {
      "cell_type": "markdown",
      "source": [
        "Estudo realizado com o intuito de realizar uma análise de dados referentes as denúncias recibidas pela Ouvidoria Nacional de Direitos Humanos – ONDH, sobre  violação de direitos humanos e violência contra a mulher no segundo semestre de 2020.\n",
        "\n",
        "Referência dos dados: PORTAL BRASILEIRO DE DADOS ABERTOS\n",
        "[texto do link](https://https://dados.gov.br/dataset/ouvidoria-nacional-de-direitos-humanos-ondh)"
      ],
      "metadata": {
        "id": "iJ10GfqkLFkU"
      }
    },
    {
      "cell_type": "code",
      "source": [
        "#importando a biblioteca pandas\n",
        "\n",
        "import pandas as pd\n",
        "import numpy as np\n",
        "\n",
        "\n"
      ],
      "metadata": {
        "id": "SihM7HU3LCSU"
      },
      "execution_count": null,
      "outputs": []
    },
    {
      "cell_type": "code",
      "source": [
        "df= pd.read_csv(\"/content/drive/MyDrive/Colab Notebooks/Datasets/DireitosHumanos_segundo_semestre_2020.csv\",encoding = \"ISO-8859-1\", sep=\";\")"
      ],
      "metadata": {
        "id": "JbjongH7bQsM"
      },
      "execution_count": null,
      "outputs": []
    },
    {
      "cell_type": "markdown",
      "source": [
        "link solução do erro: https://stackoverflow.com/questions/18171739/unicodedecodeerror-when-reading-csv-file-in-pandas-with-python"
      ],
      "metadata": {
        "id": "DM8nNUClD-pe"
      }
    },
    {
      "cell_type": "code",
      "source": [
        "# Visualizando as 5 primeiras linhas\n",
        "df.head()"
      ],
      "metadata": {
        "colab": {
          "base_uri": "https://localhost:8080/",
          "height": 531
        },
        "id": "vElar-RjERWb",
        "outputId": "6b56e35d-ed59-43ee-851f-46b4bf7ec898"
      },
      "execution_count": null,
      "outputs": [
        {
          "output_type": "execute_result",
          "data": {
            "text/html": [
              "\n",
              "  <div id=\"df-da4684ba-0d87-45be-98f3-f8775db0c4f9\">\n",
              "    <div class=\"colab-df-container\">\n",
              "      <div>\n",
              "<style scoped>\n",
              "    .dataframe tbody tr th:only-of-type {\n",
              "        vertical-align: middle;\n",
              "    }\n",
              "\n",
              "    .dataframe tbody tr th {\n",
              "        vertical-align: top;\n",
              "    }\n",
              "\n",
              "    .dataframe thead th {\n",
              "        text-align: right;\n",
              "    }\n",
              "</style>\n",
              "<table border=\"1\" class=\"dataframe\">\n",
              "  <thead>\n",
              "    <tr style=\"text-align: right;\">\n",
              "      <th></th>\n",
              "      <th>Ano</th>\n",
              "      <th>Trimestre</th>\n",
              "      <th>Mês</th>\n",
              "      <th>Dia</th>\n",
              "      <th>País</th>\n",
              "      <th>UF</th>\n",
              "      <th>Grupo_vulnerável</th>\n",
              "      <th>Canal_de_atendimento</th>\n",
              "      <th>Cenário_da_violação</th>\n",
              "      <th>Frequência</th>\n",
              "      <th>Motivação</th>\n",
              "      <th>Denunciante</th>\n",
              "      <th>Sexo_da_vítima</th>\n",
              "      <th>Vítima_LGBT</th>\n",
              "      <th>Raça/Cor_da_vítima</th>\n",
              "      <th>Grau_de_instrução_da_vítima</th>\n",
              "      <th>Faixa_etária_da_vítima</th>\n",
              "      <th>Faixa_de_renda_da_vítima</th>\n",
              "      <th>Profissão_da_vítima</th>\n",
              "      <th>Religião_da_vítima</th>\n",
              "      <th>Deficiência_da_vítima</th>\n",
              "      <th>Deficiência_relacionada_a_doença_rara_?</th>\n",
              "      <th>Categoria</th>\n",
              "      <th>Categoria_2</th>\n",
              "      <th>Categoria_3</th>\n",
              "      <th>Categoria_4</th>\n",
              "      <th>Categoria_5</th>\n",
              "      <th>Categoria_6</th>\n",
              "    </tr>\n",
              "  </thead>\n",
              "  <tbody>\n",
              "    <tr>\n",
              "      <th>0</th>\n",
              "      <td>2020</td>\n",
              "      <td>Trim 4</td>\n",
              "      <td>dezembro</td>\n",
              "      <td>31</td>\n",
              "      <td>BRASIL</td>\n",
              "      <td>AM</td>\n",
              "      <td>02. VIOLÊNCIA DOMÉSTICA E FAMILIAR CONTRA A MU...</td>\n",
              "      <td>TELEFÔNICO</td>\n",
              "      <td>CASA ONDE RESIDE A VÍTIMA E O SUSPEITO</td>\n",
              "      <td>ÚNICA OCORRÊNCIA</td>\n",
              "      <td>EM RAZÃO DE SER MULHER</td>\n",
              "      <td>A PRÓPRIA VÍTIMA</td>\n",
              "      <td>FEMININO</td>\n",
              "      <td>*(N/D)</td>\n",
              "      <td>PARDA</td>\n",
              "      <td>ENSINO MÉDIO COMPLETO</td>\n",
              "      <td>35 A 39 ANOS</td>\n",
              "      <td>ATÉ 1 SM</td>\n",
              "      <td>*(N/D)</td>\n",
              "      <td>EVANGELHO QUADRANGULAR</td>\n",
              "      <td>*(N/D)</td>\n",
              "      <td>NÃO</td>\n",
              "      <td>INTEGRIDADE</td>\n",
              "      <td>FÍSICA</td>\n",
              "      <td>EXPOSIÇÃO DE RISCO À SAÚDE</td>\n",
              "      <td>NaN</td>\n",
              "      <td>NaN</td>\n",
              "      <td>NaN</td>\n",
              "    </tr>\n",
              "    <tr>\n",
              "      <th>1</th>\n",
              "      <td>2020</td>\n",
              "      <td>Trim 4</td>\n",
              "      <td>dezembro</td>\n",
              "      <td>31</td>\n",
              "      <td>BRASIL</td>\n",
              "      <td>AM</td>\n",
              "      <td>02. VIOLÊNCIA DOMÉSTICA E FAMILIAR CONTRA A MU...</td>\n",
              "      <td>TELEFÔNICO</td>\n",
              "      <td>CASA ONDE RESIDE A VÍTIMA E O SUSPEITO</td>\n",
              "      <td>ÚNICA OCORRÊNCIA</td>\n",
              "      <td>*(N/D)</td>\n",
              "      <td>A PRÓPRIA VÍTIMA</td>\n",
              "      <td>FEMININO</td>\n",
              "      <td>*(N/D)</td>\n",
              "      <td>PARDA</td>\n",
              "      <td>ENSINO MÉDIO COMPLETO</td>\n",
              "      <td>35 A 39 ANOS</td>\n",
              "      <td>ATÉ 1 SM</td>\n",
              "      <td>*(N/D)</td>\n",
              "      <td>EVANGELHO QUADRANGULAR</td>\n",
              "      <td>*(N/D)</td>\n",
              "      <td>NÃO</td>\n",
              "      <td>INTEGRIDADE</td>\n",
              "      <td>FÍSICA</td>\n",
              "      <td>LESÃO CORPORAL</td>\n",
              "      <td>NaN</td>\n",
              "      <td>NaN</td>\n",
              "      <td>NaN</td>\n",
              "    </tr>\n",
              "    <tr>\n",
              "      <th>2</th>\n",
              "      <td>2020</td>\n",
              "      <td>Trim 4</td>\n",
              "      <td>dezembro</td>\n",
              "      <td>31</td>\n",
              "      <td>BRASIL</td>\n",
              "      <td>AM</td>\n",
              "      <td>02. VIOLÊNCIA DOMÉSTICA E FAMILIAR CONTRA A MU...</td>\n",
              "      <td>TELEFÔNICO</td>\n",
              "      <td>CASA ONDE RESIDE A VÍTIMA E O SUSPEITO</td>\n",
              "      <td>ÚNICA OCORRÊNCIA</td>\n",
              "      <td>POR CONDUTAS EXCESSIVAS/ DESNECESSÁRIAS/ DESAC...</td>\n",
              "      <td>A PRÓPRIA VÍTIMA</td>\n",
              "      <td>FEMININO</td>\n",
              "      <td>*(N/D)</td>\n",
              "      <td>PARDA</td>\n",
              "      <td>ENSINO MÉDIO COMPLETO</td>\n",
              "      <td>35 A 39 ANOS</td>\n",
              "      <td>ATÉ 1 SM</td>\n",
              "      <td>*(N/D)</td>\n",
              "      <td>EVANGELHO QUADRANGULAR</td>\n",
              "      <td>NÃO TEM DEFICIÊNCIA</td>\n",
              "      <td>NÃO</td>\n",
              "      <td>INTEGRIDADE</td>\n",
              "      <td>FÍSICA</td>\n",
              "      <td>AGRESSÃO ou VIAS DE FATO</td>\n",
              "      <td>NaN</td>\n",
              "      <td>NaN</td>\n",
              "      <td>NaN</td>\n",
              "    </tr>\n",
              "    <tr>\n",
              "      <th>3</th>\n",
              "      <td>2020</td>\n",
              "      <td>Trim 4</td>\n",
              "      <td>dezembro</td>\n",
              "      <td>31</td>\n",
              "      <td>BRASIL</td>\n",
              "      <td>AM</td>\n",
              "      <td>03. VIOLÊNCIA CONTRA CRIANÇA OU ADOLESCENTE</td>\n",
              "      <td>TELEFÔNICO</td>\n",
              "      <td>CASA DA VÍTIMA</td>\n",
              "      <td>MENSALMENTE</td>\n",
              "      <td>*(N/D)</td>\n",
              "      <td>ANÔNIMO</td>\n",
              "      <td>FEMININO</td>\n",
              "      <td>*(N/D)</td>\n",
              "      <td>PARDA</td>\n",
              "      <td>ENSINO FUNDAMENTAL INCOMPLETO</td>\n",
              "      <td>10 A 11 ANOS</td>\n",
              "      <td>*(N/D)</td>\n",
              "      <td>*(N/D)</td>\n",
              "      <td>*(N/D)</td>\n",
              "      <td>*(N/D)</td>\n",
              "      <td>NÃO SABE INFORMAR</td>\n",
              "      <td>INTEGRIDADE</td>\n",
              "      <td>FÍSICA</td>\n",
              "      <td>EXPOSIÇÃO DE RISCO À SAÚDE</td>\n",
              "      <td>NaN</td>\n",
              "      <td>NaN</td>\n",
              "      <td>NaN</td>\n",
              "    </tr>\n",
              "    <tr>\n",
              "      <th>4</th>\n",
              "      <td>2020</td>\n",
              "      <td>Trim 4</td>\n",
              "      <td>dezembro</td>\n",
              "      <td>31</td>\n",
              "      <td>BRASIL</td>\n",
              "      <td>AM</td>\n",
              "      <td>03. VIOLÊNCIA CONTRA CRIANÇA OU ADOLESCENTE</td>\n",
              "      <td>TELEFÔNICO</td>\n",
              "      <td>CASA DA VÍTIMA</td>\n",
              "      <td>MENSALMENTE</td>\n",
              "      <td>*(N/D)</td>\n",
              "      <td>ANÔNIMO</td>\n",
              "      <td>FEMININO</td>\n",
              "      <td>*(N/D)</td>\n",
              "      <td>PARDA</td>\n",
              "      <td>ENSINO FUNDAMENTAL INCOMPLETO</td>\n",
              "      <td>10 A 11 ANOS</td>\n",
              "      <td>*(N/D)</td>\n",
              "      <td>*(N/D)</td>\n",
              "      <td>*(N/D)</td>\n",
              "      <td>*(N/D)</td>\n",
              "      <td>NÃO SABE INFORMAR</td>\n",
              "      <td>INTEGRIDADE</td>\n",
              "      <td>FÍSICA</td>\n",
              "      <td>MAUS TRATOS</td>\n",
              "      <td>NaN</td>\n",
              "      <td>NaN</td>\n",
              "      <td>NaN</td>\n",
              "    </tr>\n",
              "  </tbody>\n",
              "</table>\n",
              "</div>\n",
              "      <button class=\"colab-df-convert\" onclick=\"convertToInteractive('df-da4684ba-0d87-45be-98f3-f8775db0c4f9')\"\n",
              "              title=\"Convert this dataframe to an interactive table.\"\n",
              "              style=\"display:none;\">\n",
              "        \n",
              "  <svg xmlns=\"http://www.w3.org/2000/svg\" height=\"24px\"viewBox=\"0 0 24 24\"\n",
              "       width=\"24px\">\n",
              "    <path d=\"M0 0h24v24H0V0z\" fill=\"none\"/>\n",
              "    <path d=\"M18.56 5.44l.94 2.06.94-2.06 2.06-.94-2.06-.94-.94-2.06-.94 2.06-2.06.94zm-11 1L8.5 8.5l.94-2.06 2.06-.94-2.06-.94L8.5 2.5l-.94 2.06-2.06.94zm10 10l.94 2.06.94-2.06 2.06-.94-2.06-.94-.94-2.06-.94 2.06-2.06.94z\"/><path d=\"M17.41 7.96l-1.37-1.37c-.4-.4-.92-.59-1.43-.59-.52 0-1.04.2-1.43.59L10.3 9.45l-7.72 7.72c-.78.78-.78 2.05 0 2.83L4 21.41c.39.39.9.59 1.41.59.51 0 1.02-.2 1.41-.59l7.78-7.78 2.81-2.81c.8-.78.8-2.07 0-2.86zM5.41 20L4 18.59l7.72-7.72 1.47 1.35L5.41 20z\"/>\n",
              "  </svg>\n",
              "      </button>\n",
              "      \n",
              "  <style>\n",
              "    .colab-df-container {\n",
              "      display:flex;\n",
              "      flex-wrap:wrap;\n",
              "      gap: 12px;\n",
              "    }\n",
              "\n",
              "    .colab-df-convert {\n",
              "      background-color: #E8F0FE;\n",
              "      border: none;\n",
              "      border-radius: 50%;\n",
              "      cursor: pointer;\n",
              "      display: none;\n",
              "      fill: #1967D2;\n",
              "      height: 32px;\n",
              "      padding: 0 0 0 0;\n",
              "      width: 32px;\n",
              "    }\n",
              "\n",
              "    .colab-df-convert:hover {\n",
              "      background-color: #E2EBFA;\n",
              "      box-shadow: 0px 1px 2px rgba(60, 64, 67, 0.3), 0px 1px 3px 1px rgba(60, 64, 67, 0.15);\n",
              "      fill: #174EA6;\n",
              "    }\n",
              "\n",
              "    [theme=dark] .colab-df-convert {\n",
              "      background-color: #3B4455;\n",
              "      fill: #D2E3FC;\n",
              "    }\n",
              "\n",
              "    [theme=dark] .colab-df-convert:hover {\n",
              "      background-color: #434B5C;\n",
              "      box-shadow: 0px 1px 3px 1px rgba(0, 0, 0, 0.15);\n",
              "      filter: drop-shadow(0px 1px 2px rgba(0, 0, 0, 0.3));\n",
              "      fill: #FFFFFF;\n",
              "    }\n",
              "  </style>\n",
              "\n",
              "      <script>\n",
              "        const buttonEl =\n",
              "          document.querySelector('#df-da4684ba-0d87-45be-98f3-f8775db0c4f9 button.colab-df-convert');\n",
              "        buttonEl.style.display =\n",
              "          google.colab.kernel.accessAllowed ? 'block' : 'none';\n",
              "\n",
              "        async function convertToInteractive(key) {\n",
              "          const element = document.querySelector('#df-da4684ba-0d87-45be-98f3-f8775db0c4f9');\n",
              "          const dataTable =\n",
              "            await google.colab.kernel.invokeFunction('convertToInteractive',\n",
              "                                                     [key], {});\n",
              "          if (!dataTable) return;\n",
              "\n",
              "          const docLinkHtml = 'Like what you see? Visit the ' +\n",
              "            '<a target=\"_blank\" href=https://colab.research.google.com/notebooks/data_table.ipynb>data table notebook</a>'\n",
              "            + ' to learn more about interactive tables.';\n",
              "          element.innerHTML = '';\n",
              "          dataTable['output_type'] = 'display_data';\n",
              "          await google.colab.output.renderOutput(dataTable, element);\n",
              "          const docLink = document.createElement('div');\n",
              "          docLink.innerHTML = docLinkHtml;\n",
              "          element.appendChild(docLink);\n",
              "        }\n",
              "      </script>\n",
              "    </div>\n",
              "  </div>\n",
              "  "
            ],
            "text/plain": [
              "    Ano Trimestre       Mês  ...  Categoria_4 Categoria_5 Categoria_6\n",
              "0  2020    Trim 4  dezembro  ...          NaN         NaN         NaN\n",
              "1  2020    Trim 4  dezembro  ...          NaN         NaN         NaN\n",
              "2  2020    Trim 4  dezembro  ...          NaN         NaN         NaN\n",
              "3  2020    Trim 4  dezembro  ...          NaN         NaN         NaN\n",
              "4  2020    Trim 4  dezembro  ...          NaN         NaN         NaN\n",
              "\n",
              "[5 rows x 28 columns]"
            ]
          },
          "metadata": {},
          "execution_count": 44
        }
      ]
    },
    {
      "cell_type": "code",
      "source": [
        "#total de linhas e colunas\n",
        "df.shape\n"
      ],
      "metadata": {
        "colab": {
          "base_uri": "https://localhost:8080/"
        },
        "id": "LSnD8HMdIKOO",
        "outputId": "7ce0ad6a-9c5d-4c1d-b2cc-1be9780933de"
      },
      "execution_count": null,
      "outputs": [
        {
          "output_type": "execute_result",
          "data": {
            "text/plain": [
              "(409878, 28)"
            ]
          },
          "metadata": {},
          "execution_count": 45
        }
      ]
    },
    {
      "cell_type": "code",
      "source": [
        "#Nome das colunas\n",
        "df.columns"
      ],
      "metadata": {
        "colab": {
          "base_uri": "https://localhost:8080/"
        },
        "id": "J27TJUVnI7LL",
        "outputId": "d8f112b3-e6d3-4c4b-eb56-7b0d9b4190dc"
      },
      "execution_count": null,
      "outputs": [
        {
          "output_type": "execute_result",
          "data": {
            "text/plain": [
              "Index(['Ano', 'Trimestre', 'Mês', 'Dia', 'País', 'UF', 'Grupo_vulnerável',\n",
              "       'Canal_de_atendimento', 'Cenário_da_violação', 'Frequência',\n",
              "       'Motivação', 'Denunciante', 'Sexo_da_vítima', 'Vítima_LGBT',\n",
              "       'Raça/Cor_da_vítima', 'Grau_de_instrução_da_vítima',\n",
              "       'Faixa_etária_da_vítima', 'Faixa_de_renda_da_vítima',\n",
              "       'Profissão_da_vítima', 'Religião_da_vítima', 'Deficiência_da_vítima',\n",
              "       'Deficiência_relacionada_a_doença_rara_?', 'Categoria', 'Categoria_2',\n",
              "       'Categoria_3', 'Categoria_4', 'Categoria_5', 'Categoria_6'],\n",
              "      dtype='object')"
            ]
          },
          "metadata": {},
          "execution_count": 46
        }
      ]
    },
    {
      "cell_type": "code",
      "source": [
        "df = pd.DataFrame(np.random.rand(16,16),columns = ['Ano','Mês','UF', 'Grupo_vulnerável',\n",
        "       'Canal_de_atendimento', 'Cenário_da_violação', 'Frequência',\n",
        "       'Motivação',  'Sexo_da_vítima', 'Vítima_LGBT',\n",
        "       'Raça/Cor_da_vítima', 'Grau_de_instrução_da_vítima',\n",
        "       'Faixa_etária_da_vítima', 'Faixa_de_renda_da_vítima',\n",
        "       'Profissão_da_vítima', 'Religião_da_vítima' ])\n",
        "\n",
        "\n",
        "print(df[['Ano','Mês', 'UF', 'Grupo_vulnerável',\n",
        "       'Canal_de_atendimento', 'Cenário_da_violação', 'Frequência',\n",
        "       'Motivação', 'Sexo_da_vítima', 'Vítima_LGBT',\n",
        "       'Raça/Cor_da_vítima', 'Grau_de_instrução_da_vítima',\n",
        "       'Faixa_etária_da_vítima', 'Faixa_de_renda_da_vítima',\n",
        "       'Profissão_da_vítima', 'Religião_da_vítima']])"
      ],
      "metadata": {
        "colab": {
          "base_uri": "https://localhost:8080/"
        },
        "id": "UvVotVlMKOV1",
        "outputId": "47904df4-46f4-4654-fd9d-08f57ca1e193"
      },
      "execution_count": null,
      "outputs": [
        {
          "output_type": "stream",
          "name": "stdout",
          "text": [
            "         Ano       Mês  ...  Profissão_da_vítima  Religião_da_vítima\n",
            "0   0.418713  0.464223  ...             0.816760            0.904155\n",
            "1   0.934491  0.088246  ...             0.475817            0.712069\n",
            "2   0.675967  0.521697  ...             0.403125            0.702408\n",
            "3   0.941565  0.644880  ...             0.411215            0.624539\n",
            "4   0.039253  0.830590  ...             0.616255            0.135906\n",
            "5   0.462606  0.491084  ...             0.753813            0.543494\n",
            "6   0.752357  0.054849  ...             0.234404            0.833732\n",
            "7   0.857883  0.040110  ...             0.220577            0.442352\n",
            "8   0.751072  0.399878  ...             0.202015            0.482449\n",
            "9   0.767810  0.252174  ...             0.620618            0.976238\n",
            "10  0.774925  0.386980  ...             0.161070            0.544096\n",
            "11  0.894450  0.907079  ...             0.422996            0.521803\n",
            "12  0.181059  0.244616  ...             0.654382            0.422621\n",
            "13  0.656933  0.668337  ...             0.961256            0.347366\n",
            "14  0.166542  0.842262  ...             0.012241            0.061677\n",
            "15  0.683331  0.117335  ...             0.291161            0.376968\n",
            "\n",
            "[16 rows x 16 columns]\n"
          ]
        }
      ]
    },
    {
      "cell_type": "code",
      "source": [
        "df.shape"
      ],
      "metadata": {
        "colab": {
          "base_uri": "https://localhost:8080/"
        },
        "id": "pB6ZOyMiPEOz",
        "outputId": "787474f4-bd93-40bb-e39a-584acfe0a091"
      },
      "execution_count": null,
      "outputs": [
        {
          "output_type": "execute_result",
          "data": {
            "text/plain": [
              "(16, 16)"
            ]
          },
          "metadata": {},
          "execution_count": 48
        }
      ]
    },
    {
      "cell_type": "code",
      "source": [
        "#Tipo dos Dados\n",
        "df.dtypes"
      ],
      "metadata": {
        "colab": {
          "base_uri": "https://localhost:8080/"
        },
        "id": "9QR-AqRfJT5j",
        "outputId": "3f493945-be47-4cee-df18-95d0321b728e"
      },
      "execution_count": null,
      "outputs": [
        {
          "output_type": "execute_result",
          "data": {
            "text/plain": [
              "Ano                            float64\n",
              "Mês                            float64\n",
              "UF                             float64\n",
              "Grupo_vulnerável               float64\n",
              "Canal_de_atendimento           float64\n",
              "Cenário_da_violação            float64\n",
              "Frequência                     float64\n",
              "Motivação                      float64\n",
              "Sexo_da_vítima                 float64\n",
              "Vítima_LGBT                    float64\n",
              "Raça/Cor_da_vítima             float64\n",
              "Grau_de_instrução_da_vítima    float64\n",
              "Faixa_etária_da_vítima         float64\n",
              "Faixa_de_renda_da_vítima       float64\n",
              "Profissão_da_vítima            float64\n",
              "Religião_da_vítima             float64\n",
              "dtype: object"
            ]
          },
          "metadata": {},
          "execution_count": 49
        }
      ]
    }
  ]
}